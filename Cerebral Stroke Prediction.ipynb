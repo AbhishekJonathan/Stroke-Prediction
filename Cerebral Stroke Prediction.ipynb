{
 "cells": [
  {
   "cell_type": "code",
   "execution_count": 1,
   "id": "dd4815f9",
   "metadata": {},
   "outputs": [],
   "source": [
    "import numpy as np\n",
    "import pandas as pd\n",
    "import seaborn as sns\n",
    "import matplotlib.pyplot as plt\n",
    "import warnings\n",
    "from sklearn.preprocessing import RobustScaler, LabelEncoder, MinMaxScaler\n",
    "from sklearn.model_selection import train_test_split, cross_validate, GridSearchCV\n",
    "from sklearn.metrics import accuracy_score, classification_report, confusion_matrix\n",
    "from sklearn.linear_model import LogisticRegression\n",
    "from sklearn.neighbors import KNeighborsClassifier\n",
    "from sklearn.ensemble import RandomForestClassifier, GradientBoostingClassifier\n",
    "from sklearn.svm import SVC\n",
    "from sklearn.tree import DecisionTreeClassifier\n",
    "from xgboost import XGBClassifier\n",
    "\n",
    "pd.set_option('display.max_columns', None)\n",
    "pd.set_option('display.width', 500)\n",
    "warnings.simplefilter(action='ignore', category=Warning)"
   ]
  },
  {
   "cell_type": "code",
   "execution_count": 2,
   "id": "986aac56",
   "metadata": {},
   "outputs": [],
   "source": [
    "ht = pd.read_csv(\"dataset23.csv\")"
   ]
  },
  {
   "cell_type": "code",
   "execution_count": 3,
   "id": "33322256",
   "metadata": {},
   "outputs": [
    {
     "data": {
      "text/html": [
       "<div>\n",
       "<style scoped>\n",
       "    .dataframe tbody tr th:only-of-type {\n",
       "        vertical-align: middle;\n",
       "    }\n",
       "\n",
       "    .dataframe tbody tr th {\n",
       "        vertical-align: top;\n",
       "    }\n",
       "\n",
       "    .dataframe thead th {\n",
       "        text-align: right;\n",
       "    }\n",
       "</style>\n",
       "<table border=\"1\" class=\"dataframe\">\n",
       "  <thead>\n",
       "    <tr style=\"text-align: right;\">\n",
       "      <th></th>\n",
       "      <th>id</th>\n",
       "      <th>gender</th>\n",
       "      <th>age</th>\n",
       "      <th>hypertension</th>\n",
       "      <th>heart_disease</th>\n",
       "      <th>ever_married</th>\n",
       "      <th>work_type</th>\n",
       "      <th>Residence_type</th>\n",
       "      <th>avg_glucose_level</th>\n",
       "      <th>bmi</th>\n",
       "      <th>smoking_status</th>\n",
       "      <th>stroke</th>\n",
       "    </tr>\n",
       "  </thead>\n",
       "  <tbody>\n",
       "    <tr>\n",
       "      <th>0</th>\n",
       "      <td>30669</td>\n",
       "      <td>Male</td>\n",
       "      <td>3.0</td>\n",
       "      <td>0</td>\n",
       "      <td>0</td>\n",
       "      <td>No</td>\n",
       "      <td>children</td>\n",
       "      <td>Rural</td>\n",
       "      <td>95.12</td>\n",
       "      <td>18.0</td>\n",
       "      <td>NaN</td>\n",
       "      <td>0</td>\n",
       "    </tr>\n",
       "    <tr>\n",
       "      <th>1</th>\n",
       "      <td>30468</td>\n",
       "      <td>Male</td>\n",
       "      <td>58.0</td>\n",
       "      <td>1</td>\n",
       "      <td>0</td>\n",
       "      <td>Yes</td>\n",
       "      <td>Private</td>\n",
       "      <td>Urban</td>\n",
       "      <td>87.96</td>\n",
       "      <td>39.2</td>\n",
       "      <td>never smoked</td>\n",
       "      <td>0</td>\n",
       "    </tr>\n",
       "    <tr>\n",
       "      <th>2</th>\n",
       "      <td>16523</td>\n",
       "      <td>Female</td>\n",
       "      <td>8.0</td>\n",
       "      <td>0</td>\n",
       "      <td>0</td>\n",
       "      <td>No</td>\n",
       "      <td>Private</td>\n",
       "      <td>Urban</td>\n",
       "      <td>110.89</td>\n",
       "      <td>17.6</td>\n",
       "      <td>NaN</td>\n",
       "      <td>0</td>\n",
       "    </tr>\n",
       "    <tr>\n",
       "      <th>3</th>\n",
       "      <td>56543</td>\n",
       "      <td>Female</td>\n",
       "      <td>70.0</td>\n",
       "      <td>0</td>\n",
       "      <td>0</td>\n",
       "      <td>Yes</td>\n",
       "      <td>Private</td>\n",
       "      <td>Rural</td>\n",
       "      <td>69.04</td>\n",
       "      <td>35.9</td>\n",
       "      <td>formerly smoked</td>\n",
       "      <td>0</td>\n",
       "    </tr>\n",
       "    <tr>\n",
       "      <th>4</th>\n",
       "      <td>46136</td>\n",
       "      <td>Male</td>\n",
       "      <td>14.0</td>\n",
       "      <td>0</td>\n",
       "      <td>0</td>\n",
       "      <td>No</td>\n",
       "      <td>Never_worked</td>\n",
       "      <td>Rural</td>\n",
       "      <td>161.28</td>\n",
       "      <td>19.1</td>\n",
       "      <td>NaN</td>\n",
       "      <td>0</td>\n",
       "    </tr>\n",
       "  </tbody>\n",
       "</table>\n",
       "</div>"
      ],
      "text/plain": [
       "      id  gender   age  hypertension  heart_disease ever_married     work_type Residence_type  avg_glucose_level   bmi   smoking_status  stroke\n",
       "0  30669    Male   3.0             0              0           No      children          Rural              95.12  18.0              NaN       0\n",
       "1  30468    Male  58.0             1              0          Yes       Private          Urban              87.96  39.2     never smoked       0\n",
       "2  16523  Female   8.0             0              0           No       Private          Urban             110.89  17.6              NaN       0\n",
       "3  56543  Female  70.0             0              0          Yes       Private          Rural              69.04  35.9  formerly smoked       0\n",
       "4  46136    Male  14.0             0              0           No  Never_worked          Rural             161.28  19.1              NaN       0"
      ]
     },
     "execution_count": 3,
     "metadata": {},
     "output_type": "execute_result"
    }
   ],
   "source": [
    "ht.head()"
   ]
  },
  {
   "cell_type": "code",
   "execution_count": 4,
   "id": "07251e3f",
   "metadata": {},
   "outputs": [
    {
     "data": {
      "text/plain": [
       "(43400, 12)"
      ]
     },
     "execution_count": 4,
     "metadata": {},
     "output_type": "execute_result"
    }
   ],
   "source": [
    "ht.shape"
   ]
  },
  {
   "cell_type": "markdown",
   "id": "55e32670",
   "metadata": {},
   "source": [
    "# Missing Value"
   ]
  },
  {
   "cell_type": "code",
   "execution_count": 5,
   "id": "fcb4b169",
   "metadata": {},
   "outputs": [
    {
     "data": {
      "text/plain": [
       "id                       0\n",
       "gender                   0\n",
       "age                      0\n",
       "hypertension             0\n",
       "heart_disease            0\n",
       "ever_married             0\n",
       "work_type                0\n",
       "Residence_type           0\n",
       "avg_glucose_level        0\n",
       "bmi                   1462\n",
       "smoking_status       13292\n",
       "stroke                   0\n",
       "dtype: int64"
      ]
     },
     "execution_count": 5,
     "metadata": {},
     "output_type": "execute_result"
    }
   ],
   "source": [
    "ht.isnull().sum()"
   ]
  },
  {
   "cell_type": "code",
   "execution_count": 6,
   "id": "90d21e38",
   "metadata": {},
   "outputs": [
    {
     "data": {
      "text/plain": [
       "3.3686635944700463"
      ]
     },
     "execution_count": 6,
     "metadata": {},
     "output_type": "execute_result"
    }
   ],
   "source": [
    "(ht[\"bmi\"].isnull().sum() / ht.shape[0]) * 100"
   ]
  },
  {
   "cell_type": "code",
   "execution_count": 7,
   "id": "fa10557e",
   "metadata": {},
   "outputs": [
    {
     "data": {
      "text/plain": [
       "30.62672811059908"
      ]
     },
     "execution_count": 7,
     "metadata": {},
     "output_type": "execute_result"
    }
   ],
   "source": [
    "(ht[\"smoking_status\"].isnull().sum() / ht.shape[0]) * 100"
   ]
  },
  {
   "cell_type": "code",
   "execution_count": 8,
   "id": "e1d3edff",
   "metadata": {},
   "outputs": [
    {
     "data": {
      "text/plain": [
       "id                   0\n",
       "gender               0\n",
       "age                  0\n",
       "hypertension         0\n",
       "heart_disease        0\n",
       "ever_married         0\n",
       "work_type            0\n",
       "Residence_type       0\n",
       "avg_glucose_level    0\n",
       "bmi                  0\n",
       "smoking_status       0\n",
       "stroke               0\n",
       "dtype: int64"
      ]
     },
     "execution_count": 8,
     "metadata": {},
     "output_type": "execute_result"
    }
   ],
   "source": [
    "ht.dropna(axis=0,inplace=True)\n",
    "ht.isnull().sum()"
   ]
  },
  {
   "cell_type": "code",
   "execution_count": 9,
   "id": "6fe857b9",
   "metadata": {},
   "outputs": [
    {
     "data": {
      "text/plain": [
       "(29072, 12)"
      ]
     },
     "execution_count": 9,
     "metadata": {},
     "output_type": "execute_result"
    }
   ],
   "source": [
    "ht.shape"
   ]
  },
  {
   "cell_type": "code",
   "execution_count": 10,
   "id": "2d50f462",
   "metadata": {},
   "outputs": [],
   "source": [
    "def col_names(df):\n",
    "    #Categorical Variables\n",
    "    cat_cols = [col for col in ht.columns if ht[col].dtypes not in [\"int64\", \"float64\"]]\n",
    "    #Numerical Variables\n",
    "    num_cols = [col for col in ht.columns if ht[col].dtypes in [\"int64\", \"float64\"]]\n",
    "    #Numerical but Categorical Variables\n",
    "    num_but_cat = [col for col in num_cols if ht[col].nunique() < 12]\n",
    "    #Adding num_but_cat to cat_cols\n",
    "    cat_cols = num_but_cat + cat_cols\n",
    "    #num_but_cat removing from num_cols\n",
    "    num_cols = [col for col in num_cols if col not in num_but_cat]\n",
    "    #Categorical but Cardinal Variables\n",
    "    cat_but_car = [col for col in cat_cols if ht[col].nunique() > 12]\n",
    "    print(f\"Numerical Cols: {num_cols} \\nCategorical Cols: {cat_cols} \\nNumerical but Categorical: {num_but_cat} \\nCategorical but Cardinal: {cat_but_car}\") \n",
    "    return num_cols, cat_cols"
   ]
  },
  {
   "cell_type": "code",
   "execution_count": 11,
   "id": "6f2bd26c",
   "metadata": {},
   "outputs": [
    {
     "name": "stdout",
     "output_type": "stream",
     "text": [
      "Numerical Cols: ['id', 'age', 'avg_glucose_level', 'bmi'] \n",
      "Categorical Cols: ['hypertension', 'heart_disease', 'stroke', 'gender', 'ever_married', 'work_type', 'Residence_type', 'smoking_status'] \n",
      "Numerical but Categorical: ['hypertension', 'heart_disease', 'stroke'] \n",
      "Categorical but Cardinal: []\n"
     ]
    }
   ],
   "source": [
    "num_cols, cat_cols = col_names(ht)"
   ]
  },
  {
   "cell_type": "markdown",
   "id": "6c2f8017",
   "metadata": {},
   "source": [
    "# Analyzing Numerical Variables"
   ]
  },
  {
   "cell_type": "code",
   "execution_count": 12,
   "id": "7bfc7ab3",
   "metadata": {},
   "outputs": [
    {
     "data": {
      "text/html": [
       "<div>\n",
       "<style scoped>\n",
       "    .dataframe tbody tr th:only-of-type {\n",
       "        vertical-align: middle;\n",
       "    }\n",
       "\n",
       "    .dataframe tbody tr th {\n",
       "        vertical-align: top;\n",
       "    }\n",
       "\n",
       "    .dataframe thead th {\n",
       "        text-align: right;\n",
       "    }\n",
       "</style>\n",
       "<table border=\"1\" class=\"dataframe\">\n",
       "  <thead>\n",
       "    <tr style=\"text-align: right;\">\n",
       "      <th></th>\n",
       "      <th>count</th>\n",
       "      <th>mean</th>\n",
       "      <th>std</th>\n",
       "      <th>min</th>\n",
       "      <th>25%</th>\n",
       "      <th>50%</th>\n",
       "      <th>75%</th>\n",
       "      <th>max</th>\n",
       "    </tr>\n",
       "  </thead>\n",
       "  <tbody>\n",
       "    <tr>\n",
       "      <th>id</th>\n",
       "      <td>29072.0</td>\n",
       "      <td>37079.469455</td>\n",
       "      <td>20965.429393</td>\n",
       "      <td>1.00</td>\n",
       "      <td>19046.7500</td>\n",
       "      <td>37444.00</td>\n",
       "      <td>55220.25</td>\n",
       "      <td>72943.00</td>\n",
       "    </tr>\n",
       "    <tr>\n",
       "      <th>age</th>\n",
       "      <td>29072.0</td>\n",
       "      <td>47.671746</td>\n",
       "      <td>18.734490</td>\n",
       "      <td>10.00</td>\n",
       "      <td>32.0000</td>\n",
       "      <td>48.00</td>\n",
       "      <td>62.00</td>\n",
       "      <td>82.00</td>\n",
       "    </tr>\n",
       "    <tr>\n",
       "      <th>avg_glucose_level</th>\n",
       "      <td>29072.0</td>\n",
       "      <td>106.403225</td>\n",
       "      <td>45.268512</td>\n",
       "      <td>55.01</td>\n",
       "      <td>77.6275</td>\n",
       "      <td>92.13</td>\n",
       "      <td>113.91</td>\n",
       "      <td>291.05</td>\n",
       "    </tr>\n",
       "    <tr>\n",
       "      <th>bmi</th>\n",
       "      <td>29072.0</td>\n",
       "      <td>30.054166</td>\n",
       "      <td>7.193908</td>\n",
       "      <td>10.10</td>\n",
       "      <td>25.0000</td>\n",
       "      <td>28.90</td>\n",
       "      <td>33.90</td>\n",
       "      <td>92.00</td>\n",
       "    </tr>\n",
       "  </tbody>\n",
       "</table>\n",
       "</div>"
      ],
      "text/plain": [
       "                     count          mean           std    min         25%       50%       75%       max\n",
       "id                 29072.0  37079.469455  20965.429393   1.00  19046.7500  37444.00  55220.25  72943.00\n",
       "age                29072.0     47.671746     18.734490  10.00     32.0000     48.00     62.00     82.00\n",
       "avg_glucose_level  29072.0    106.403225     45.268512  55.01     77.6275     92.13    113.91    291.05\n",
       "bmi                29072.0     30.054166      7.193908  10.10     25.0000     28.90     33.90     92.00"
      ]
     },
     "execution_count": 12,
     "metadata": {},
     "output_type": "execute_result"
    }
   ],
   "source": [
    "ht[num_cols].describe().T"
   ]
  },
  {
   "cell_type": "code",
   "execution_count": 13,
   "id": "2c277bac",
   "metadata": {},
   "outputs": [
    {
     "data": {
      "image/png": "[encoded data removed]",
      "text/plain": [
       "<Figure size 640x480 with 1 Axes>"
      ]
     },
     "metadata": {},
     "output_type": "display_data"
    },
    {
     "data": {
      "image/png": "[encoded data removed]",
      "text/plain": [
       "<Figure size 640x480 with 1 Axes>"
      ]
     },
     "metadata": {},
     "output_type": "display_data"
    },
    {
     "data": {
      "image/png": "[encoded data removed]",
      "text/plain": [
       "<Figure size 640x480 with 1 Axes>"
      ]
     },
     "metadata": {},
     "output_type": "display_data"
    },
    {
     "data": {
      "image/png": "[encoded data removed]",
      "text/plain": [
       "<Figure size 640x480 with 1 Axes>"
      ]
     },
     "metadata": {},
     "output_type": "display_data"
    }
   ],
   "source": [
    "for col in num_cols:\n",
    "    sns.histplot(x=ht[col], data=ht, color=\"blue\")\n",
    "    plt.show(block=True)"
   ]
  },
  {
   "cell_type": "code",
   "execution_count": 14,
   "id": "3180a9c7",
   "metadata": {},
   "outputs": [
    {
     "data": {
      "image/png": "[encoded data removed]",
      "text/plain": [
       "<Figure size 640x480 with 1 Axes>"
      ]
     },
     "metadata": {},
     "output_type": "display_data"
    },
    {
     "data": {
      "image/png": "[encoded data removed]",
      "text/plain": [
       "<Figure size 640x480 with 1 Axes>"
      ]
     },
     "metadata": {},
     "output_type": "display_data"
    },
    {
     "data": {
      "image/png": "[encoded data removed]",
      "text/plain": [
       "<Figure size 640x480 with 1 Axes>"
      ]
     },
     "metadata": {},
     "output_type": "display_data"
    },
    {
     "data": {
      "image/png": "[encoded data removed]",
      "text/plain": [
       "<Figure size 640x480 with 1 Axes>"
      ]
     },
     "metadata": {},
     "output_type": "display_data"
    }
   ],
   "source": [
    "for col in num_cols:\n",
    "    sns.boxplot(x=ht[col], data=ht, color=\"orange\")\n",
    "    plt.show(block=True)"
   ]
  },
  {
   "cell_type": "markdown",
   "id": "2d46f08a",
   "metadata": {},
   "source": [
    "# Analyzing Categorical Variables"
   ]
  },
  {
   "cell_type": "code",
   "execution_count": 15,
   "id": "3c965c48",
   "metadata": {},
   "outputs": [
    {
     "data": {
      "image/png": "[encoded data removed]",
      "text/plain": [
       "<Figure size 640x480 with 1 Axes>"
      ]
     },
     "metadata": {},
     "output_type": "display_data"
    },
    {
     "data": {
      "image/png": "[encoded data removed]",
      "text/plain": [
       "<Figure size 640x480 with 1 Axes>"
      ]
     },
     "metadata": {},
     "output_type": "display_data"
    },
    {
     "data": {
      "image/png": "[encoded data removed]",
      "text/plain": [
       "<Figure size 640x480 with 1 Axes>"
      ]
     },
     "metadata": {},
     "output_type": "display_data"
    },
    {
     "data": {
      "image/png": "[encoded data removed]",
      "text/plain": [
       "<Figure size 640x480 with 1 Axes>"
      ]
     },
     "metadata": {},
     "output_type": "display_data"
    },
    {
     "data": {
      "image/png": "[encoded data removed]",
      "text/plain": [
       "<Figure size 640x480 with 1 Axes>"
      ]
     },
     "metadata": {},
     "output_type": "display_data"
    },
    {
     "data": {
      "image/png": "[encoded data removed]",
      "text/plain": [
       "<Figure size 640x480 with 1 Axes>"
      ]
     },
     "metadata": {},
     "output_type": "display_data"
    },
    {
     "data": {
      "image/png": "[encoded data removed]",
      "text/plain": [
       "<Figure size 640x480 with 1 Axes>"
      ]
     },
     "metadata": {},
     "output_type": "display_data"
    },
    {
     "data": {
      "image/png": "[encoded data removed]",
      "text/plain": [
       "<Figure size 640x480 with 1 Axes>"
      ]
     },
     "metadata": {},
     "output_type": "display_data"
    }
   ],
   "source": [
    "for col in cat_cols:\n",
    "    sns.histplot(x=ht[col], data=ht, color=\"blue\")\n",
    "    plt.show(block=True)"
   ]
  },
  {
   "cell_type": "markdown",
   "id": "daefdaba",
   "metadata": {},
   "source": [
    "# Analyzing Target Variable"
   ]
  },
  {
   "cell_type": "code",
   "execution_count": 16,
   "id": "3b23e3ad",
   "metadata": {},
   "outputs": [
    {
     "data": {
      "text/plain": [
       "0    28524\n",
       "1      548\n",
       "Name: stroke, dtype: int64"
      ]
     },
     "execution_count": 16,
     "metadata": {},
     "output_type": "execute_result"
    }
   ],
   "source": [
    "ht[\"stroke\"].value_counts()"
   ]
  },
  {
   "cell_type": "code",
   "execution_count": 17,
   "id": "ac5d3726",
   "metadata": {},
   "outputs": [
    {
     "data": {
      "text/plain": [
       "([<matplotlib.patches.Wedge at 0x1c431e96e50>,\n",
       "  <matplotlib.patches.Wedge at 0x1c432041610>],\n",
       " [Text(-1.0980718278468278, 0.06510192692330162, '0'),\n",
       "  Text(1.2977212564943388, -0.07693854978328195, '1')],\n",
       " [Text(-0.5989482697346332, 0.035510141958164515, '98.1%'),\n",
       "  Text(0.7985976963042085, -0.047346799866635036, '1.9%')])"
      ]
     },
     "execution_count": 17,
     "metadata": {},
     "output_type": "execute_result"
    },
    {
     "data": {
      "image/png": "[encoded data removed]",
      "text/plain": [
       "<Figure size 640x480 with 1 Axes>"
      ]
     },
     "metadata": {},
     "output_type": "display_data"
    }
   ],
   "source": [
    "plt.pie(ht[\"stroke\"].value_counts(), labels=[0,1], shadow=True, colors=[\"indianred\", \"mistyrose\"], explode=(0,0.2), autopct=\"%1.1f%%\")\n",
    "\n"
   ]
  },
  {
   "cell_type": "markdown",
   "id": "fe64eddf",
   "metadata": {},
   "source": [
    "Ratio of 1s is %4.9"
   ]
  },
  {
   "cell_type": "markdown",
   "id": "ba7b3fff",
   "metadata": {},
   "source": [
    "# Checking for Outliers in Numerical Variables"
   ]
  },
  {
   "cell_type": "code",
   "execution_count": 18,
   "id": "ac67ee38",
   "metadata": {},
   "outputs": [],
   "source": [
    "def check_outliers(ht, numerical_cols, low_threshold=0.1, up_threshold=0.9):\n",
    "    outlier_cols = []\n",
    "    for col in numerical_cols:\n",
    "        q1 = ht[col].quantile(low_threshold)\n",
    "        q3 = ht[col].quantile(up_threshold)\n",
    "        interquantile = q3 - q1\n",
    "        up_limit = q3 + 1.5 * interquantile\n",
    "        low_limit = q1 - 1.5 * interquantile\n",
    "        if ht[(ht[col] > up_limit) | (ht[col] < low_limit)].any(axis=None):\n",
    "            outlier_cols.append(col)\n",
    "    if not outlier_cols:\n",
    "        print(\"There is no outliers\")\n",
    "    return outlier_cols"
   ]
  },
  {
   "cell_type": "code",
   "execution_count": 19,
   "id": "4bc23749",
   "metadata": {},
   "outputs": [],
   "source": [
    "outlier_cols = check_outliers(ht, num_cols)"
   ]
  },
  {
   "cell_type": "code",
   "execution_count": 20,
   "id": "faeebaac",
   "metadata": {},
   "outputs": [
    {
     "name": "stdout",
     "output_type": "stream",
     "text": [
      "['bmi']\n"
     ]
    }
   ],
   "source": [
    "print(outlier_cols)"
   ]
  },
  {
   "cell_type": "markdown",
   "id": "a4f08e85",
   "metadata": {},
   "source": [
    "There are outliers in \"bmi\""
   ]
  },
  {
   "cell_type": "markdown",
   "id": "96166045",
   "metadata": {},
   "source": [
    "# Correlation"
   ]
  },
  {
   "cell_type": "code",
   "execution_count": 21,
   "id": "9f395461",
   "metadata": {},
   "outputs": [
    {
     "data": {
      "text/plain": [
       "<Axes: >"
      ]
     },
     "execution_count": 21,
     "metadata": {},
     "output_type": "execute_result"
    },
    {
     "data": {
      "image/png": "[encoded data removed]",
      "text/plain": [
       "<Figure size 640x480 with 2 Axes>"
      ]
     },
     "metadata": {},
     "output_type": "display_data"
    }
   ],
   "source": [
    "sns.heatmap(ht[num_cols].corr(), annot=True, linewidths=0.5, cmap=\"pink\")"
   ]
  },
  {
   "cell_type": "markdown",
   "id": "2b91a1de",
   "metadata": {},
   "source": [
    "No highly corelated columns"
   ]
  },
  {
   "cell_type": "markdown",
   "id": "cc3ae53a",
   "metadata": {},
   "source": [
    "# Target Variable vs Numerical Columns"
   ]
  },
  {
   "cell_type": "code",
   "execution_count": 22,
   "id": "1a45ca70",
   "metadata": {},
   "outputs": [
    {
     "name": "stdout",
     "output_type": "stream",
     "text": [
      "                  id\n",
      "stroke              \n",
      "0       37080.877331\n",
      "1       37006.187956\n",
      "\n",
      "              age\n",
      "stroke           \n",
      "0       47.271701\n",
      "1       68.494526\n",
      "\n",
      "        avg_glucose_level\n",
      "stroke                   \n",
      "0              105.929806\n",
      "1              131.045182\n",
      "\n",
      "              bmi\n",
      "stroke           \n",
      "0       30.058183\n",
      "1       29.845073\n",
      "\n"
     ]
    }
   ],
   "source": [
    "for col in num_cols:\n",
    "    print(ht.groupby(\"stroke\").agg({col:\"mean\"}), end=\"\\n\\n\")"
   ]
  },
  {
   "cell_type": "markdown",
   "id": "65b511de",
   "metadata": {},
   "source": [
    "According to the results, the probability of having a stroke increases with age, glucose level and bmi"
   ]
  },
  {
   "cell_type": "markdown",
   "id": "204296c9",
   "metadata": {},
   "source": [
    "# Target Variable vs Categorical Columns"
   ]
  },
  {
   "cell_type": "code",
   "execution_count": 23,
   "id": "ff3bed39",
   "metadata": {},
   "outputs": [
    {
     "name": "stdout",
     "output_type": "stream",
     "text": [
      "              target_mean\n",
      "hypertension             \n",
      "0                0.015059\n",
      "1                0.049059\n",
      "\n",
      "               target_mean\n",
      "heart_disease             \n",
      "0                 0.015496\n",
      "1                 0.079815\n",
      "\n",
      "        target_mean\n",
      "stroke             \n",
      "0               0.0\n",
      "1               1.0\n",
      "\n",
      "        target_mean\n",
      "gender             \n",
      "Female     0.017533\n",
      "Male       0.020958\n",
      "Other      0.000000\n",
      "\n",
      "              target_mean\n",
      "ever_married             \n",
      "No               0.007721\n",
      "Yes              0.022637\n",
      "\n",
      "               target_mean\n",
      "work_type                 \n",
      "Govt_job          0.015729\n",
      "Never_worked      0.000000\n",
      "Private           0.016408\n",
      "Self-employed     0.032859\n",
      "children          0.000000\n",
      "\n",
      "                target_mean\n",
      "Residence_type             \n",
      "Rural              0.018581\n",
      "Urban              0.019116\n",
      "\n",
      "                 target_mean\n",
      "smoking_status              \n",
      "formerly smoked     0.025356\n",
      "never smoked        0.016257\n",
      "smokes              0.017989\n",
      "\n"
     ]
    }
   ],
   "source": [
    "for col in cat_cols:\n",
    "    print(pd.DataFrame({\"target_mean\": ht.groupby(col)[\"stroke\"].mean()}), end=\"\\n\\n\")"
   ]
  },
  {
   "cell_type": "markdown",
   "id": "ab59b7dc",
   "metadata": {},
   "source": [
    "According to the results,\n",
    "\n",
    "People with hypertension are more likely to have a stroke\n",
    "\n",
    "People with heart disease are more likely to have a stroke\n",
    "\n",
    "The probability of having a stroke is higher in men\n",
    "\n",
    "People who have been married are more likely to have a stroke\n",
    "\n",
    "People who are self-employed are more likely to have a stroke\n",
    "\n",
    "The probability of having a stroke is higher in urban life\n",
    "\n",
    "The probability of having a stroke is higher in formerly smoked people"
   ]
  },
  {
   "cell_type": "markdown",
   "id": "03686734",
   "metadata": {},
   "source": [
    "# Feature Engineering"
   ]
  },
  {
   "cell_type": "markdown",
   "id": "50d85bac",
   "metadata": {},
   "source": [
    "Label Encoder"
   ]
  },
  {
   "cell_type": "code",
   "execution_count": 24,
   "id": "93960103",
   "metadata": {},
   "outputs": [],
   "source": [
    "binary_cols = [col for col in ht.columns if ht[col].dtype not in [\"int64\", \"float64\"] and ht[col].nunique() == 2]"
   ]
  },
  {
   "cell_type": "code",
   "execution_count": 25,
   "id": "6a14eb68",
   "metadata": {},
   "outputs": [
    {
     "data": {
      "text/plain": [
       "['ever_married', 'Residence_type']"
      ]
     },
     "execution_count": 25,
     "metadata": {},
     "output_type": "execute_result"
    }
   ],
   "source": [
    "binary_cols"
   ]
  },
  {
   "cell_type": "code",
   "execution_count": 26,
   "id": "609c21a5",
   "metadata": {},
   "outputs": [],
   "source": [
    "le = LabelEncoder()"
   ]
  },
  {
   "cell_type": "code",
   "execution_count": 27,
   "id": "6022bcad",
   "metadata": {},
   "outputs": [],
   "source": [
    "for col in binary_cols:\n",
    "    ht[col] = le.fit_transform(ht[col])"
   ]
  },
  {
   "cell_type": "code",
   "execution_count": 28,
   "id": "79abf1ef",
   "metadata": {},
   "outputs": [
    {
     "data": {
      "text/html": [
       "<div>\n",
       "<style scoped>\n",
       "    .dataframe tbody tr th:only-of-type {\n",
       "        vertical-align: middle;\n",
       "    }\n",
       "\n",
       "    .dataframe tbody tr th {\n",
       "        vertical-align: top;\n",
       "    }\n",
       "\n",
       "    .dataframe thead th {\n",
       "        text-align: right;\n",
       "    }\n",
       "</style>\n",
       "<table border=\"1\" class=\"dataframe\">\n",
       "  <thead>\n",
       "    <tr style=\"text-align: right;\">\n",
       "      <th></th>\n",
       "      <th>id</th>\n",
       "      <th>gender</th>\n",
       "      <th>age</th>\n",
       "      <th>hypertension</th>\n",
       "      <th>heart_disease</th>\n",
       "      <th>ever_married</th>\n",
       "      <th>work_type</th>\n",
       "      <th>Residence_type</th>\n",
       "      <th>avg_glucose_level</th>\n",
       "      <th>bmi</th>\n",
       "      <th>smoking_status</th>\n",
       "      <th>stroke</th>\n",
       "    </tr>\n",
       "  </thead>\n",
       "  <tbody>\n",
       "    <tr>\n",
       "      <th>1</th>\n",
       "      <td>30468</td>\n",
       "      <td>Male</td>\n",
       "      <td>58.0</td>\n",
       "      <td>1</td>\n",
       "      <td>0</td>\n",
       "      <td>1</td>\n",
       "      <td>Private</td>\n",
       "      <td>1</td>\n",
       "      <td>87.96</td>\n",
       "      <td>39.2</td>\n",
       "      <td>never smoked</td>\n",
       "      <td>0</td>\n",
       "    </tr>\n",
       "    <tr>\n",
       "      <th>3</th>\n",
       "      <td>56543</td>\n",
       "      <td>Female</td>\n",
       "      <td>70.0</td>\n",
       "      <td>0</td>\n",
       "      <td>0</td>\n",
       "      <td>1</td>\n",
       "      <td>Private</td>\n",
       "      <td>0</td>\n",
       "      <td>69.04</td>\n",
       "      <td>35.9</td>\n",
       "      <td>formerly smoked</td>\n",
       "      <td>0</td>\n",
       "    </tr>\n",
       "    <tr>\n",
       "      <th>6</th>\n",
       "      <td>52800</td>\n",
       "      <td>Female</td>\n",
       "      <td>52.0</td>\n",
       "      <td>0</td>\n",
       "      <td>0</td>\n",
       "      <td>1</td>\n",
       "      <td>Private</td>\n",
       "      <td>1</td>\n",
       "      <td>77.59</td>\n",
       "      <td>17.7</td>\n",
       "      <td>formerly smoked</td>\n",
       "      <td>0</td>\n",
       "    </tr>\n",
       "    <tr>\n",
       "      <th>7</th>\n",
       "      <td>41413</td>\n",
       "      <td>Female</td>\n",
       "      <td>75.0</td>\n",
       "      <td>0</td>\n",
       "      <td>1</td>\n",
       "      <td>1</td>\n",
       "      <td>Self-employed</td>\n",
       "      <td>0</td>\n",
       "      <td>243.53</td>\n",
       "      <td>27.0</td>\n",
       "      <td>never smoked</td>\n",
       "      <td>0</td>\n",
       "    </tr>\n",
       "    <tr>\n",
       "      <th>8</th>\n",
       "      <td>15266</td>\n",
       "      <td>Female</td>\n",
       "      <td>32.0</td>\n",
       "      <td>0</td>\n",
       "      <td>0</td>\n",
       "      <td>1</td>\n",
       "      <td>Private</td>\n",
       "      <td>0</td>\n",
       "      <td>77.67</td>\n",
       "      <td>32.3</td>\n",
       "      <td>smokes</td>\n",
       "      <td>0</td>\n",
       "    </tr>\n",
       "  </tbody>\n",
       "</table>\n",
       "</div>"
      ],
      "text/plain": [
       "      id  gender   age  hypertension  heart_disease  ever_married      work_type  Residence_type  avg_glucose_level   bmi   smoking_status  stroke\n",
       "1  30468    Male  58.0             1              0             1        Private               1              87.96  39.2     never smoked       0\n",
       "3  56543  Female  70.0             0              0             1        Private               0              69.04  35.9  formerly smoked       0\n",
       "6  52800  Female  52.0             0              0             1        Private               1              77.59  17.7  formerly smoked       0\n",
       "7  41413  Female  75.0             0              1             1  Self-employed               0             243.53  27.0     never smoked       0\n",
       "8  15266  Female  32.0             0              0             1        Private               0              77.67  32.3           smokes       0"
      ]
     },
     "execution_count": 28,
     "metadata": {},
     "output_type": "execute_result"
    }
   ],
   "source": [
    "ht.head()"
   ]
  },
  {
   "cell_type": "markdown",
   "id": "b0c46b5a",
   "metadata": {},
   "source": [
    "# One Hot Encoder"
   ]
  },
  {
   "cell_type": "code",
   "execution_count": 29,
   "id": "b03871b2",
   "metadata": {},
   "outputs": [],
   "source": [
    "ohe_cols = [col for col in ht.columns if 2 < ht[col].nunique() < 10]"
   ]
  },
  {
   "cell_type": "code",
   "execution_count": 30,
   "id": "6724cb81",
   "metadata": {},
   "outputs": [
    {
     "data": {
      "text/plain": [
       "['gender', 'work_type', 'smoking_status']"
      ]
     },
     "execution_count": 30,
     "metadata": {},
     "output_type": "execute_result"
    }
   ],
   "source": [
    "ohe_cols"
   ]
  },
  {
   "cell_type": "code",
   "execution_count": 31,
   "id": "d25821f7",
   "metadata": {},
   "outputs": [],
   "source": [
    "ht = pd.get_dummies(ht, columns=ohe_cols, drop_first=True)"
   ]
  },
  {
   "cell_type": "code",
   "execution_count": 32,
   "id": "fff069c6",
   "metadata": {},
   "outputs": [
    {
     "data": {
      "text/html": [
       "<div>\n",
       "<style scoped>\n",
       "    .dataframe tbody tr th:only-of-type {\n",
       "        vertical-align: middle;\n",
       "    }\n",
       "\n",
       "    .dataframe tbody tr th {\n",
       "        vertical-align: top;\n",
       "    }\n",
       "\n",
       "    .dataframe thead th {\n",
       "        text-align: right;\n",
       "    }\n",
       "</style>\n",
       "<table border=\"1\" class=\"dataframe\">\n",
       "  <thead>\n",
       "    <tr style=\"text-align: right;\">\n",
       "      <th></th>\n",
       "      <th>id</th>\n",
       "      <th>age</th>\n",
       "      <th>hypertension</th>\n",
       "      <th>heart_disease</th>\n",
       "      <th>ever_married</th>\n",
       "      <th>Residence_type</th>\n",
       "      <th>avg_glucose_level</th>\n",
       "      <th>bmi</th>\n",
       "      <th>stroke</th>\n",
       "      <th>gender_Male</th>\n",
       "      <th>gender_Other</th>\n",
       "      <th>work_type_Never_worked</th>\n",
       "      <th>work_type_Private</th>\n",
       "      <th>work_type_Self-employed</th>\n",
       "      <th>work_type_children</th>\n",
       "      <th>smoking_status_never smoked</th>\n",
       "      <th>smoking_status_smokes</th>\n",
       "    </tr>\n",
       "  </thead>\n",
       "  <tbody>\n",
       "    <tr>\n",
       "      <th>1</th>\n",
       "      <td>30468</td>\n",
       "      <td>58.0</td>\n",
       "      <td>1</td>\n",
       "      <td>0</td>\n",
       "      <td>1</td>\n",
       "      <td>1</td>\n",
       "      <td>87.96</td>\n",
       "      <td>39.2</td>\n",
       "      <td>0</td>\n",
       "      <td>1</td>\n",
       "      <td>0</td>\n",
       "      <td>0</td>\n",
       "      <td>1</td>\n",
       "      <td>0</td>\n",
       "      <td>0</td>\n",
       "      <td>1</td>\n",
       "      <td>0</td>\n",
       "    </tr>\n",
       "    <tr>\n",
       "      <th>3</th>\n",
       "      <td>56543</td>\n",
       "      <td>70.0</td>\n",
       "      <td>0</td>\n",
       "      <td>0</td>\n",
       "      <td>1</td>\n",
       "      <td>0</td>\n",
       "      <td>69.04</td>\n",
       "      <td>35.9</td>\n",
       "      <td>0</td>\n",
       "      <td>0</td>\n",
       "      <td>0</td>\n",
       "      <td>0</td>\n",
       "      <td>1</td>\n",
       "      <td>0</td>\n",
       "      <td>0</td>\n",
       "      <td>0</td>\n",
       "      <td>0</td>\n",
       "    </tr>\n",
       "    <tr>\n",
       "      <th>6</th>\n",
       "      <td>52800</td>\n",
       "      <td>52.0</td>\n",
       "      <td>0</td>\n",
       "      <td>0</td>\n",
       "      <td>1</td>\n",
       "      <td>1</td>\n",
       "      <td>77.59</td>\n",
       "      <td>17.7</td>\n",
       "      <td>0</td>\n",
       "      <td>0</td>\n",
       "      <td>0</td>\n",
       "      <td>0</td>\n",
       "      <td>1</td>\n",
       "      <td>0</td>\n",
       "      <td>0</td>\n",
       "      <td>0</td>\n",
       "      <td>0</td>\n",
       "    </tr>\n",
       "    <tr>\n",
       "      <th>7</th>\n",
       "      <td>41413</td>\n",
       "      <td>75.0</td>\n",
       "      <td>0</td>\n",
       "      <td>1</td>\n",
       "      <td>1</td>\n",
       "      <td>0</td>\n",
       "      <td>243.53</td>\n",
       "      <td>27.0</td>\n",
       "      <td>0</td>\n",
       "      <td>0</td>\n",
       "      <td>0</td>\n",
       "      <td>0</td>\n",
       "      <td>0</td>\n",
       "      <td>1</td>\n",
       "      <td>0</td>\n",
       "      <td>1</td>\n",
       "      <td>0</td>\n",
       "    </tr>\n",
       "    <tr>\n",
       "      <th>8</th>\n",
       "      <td>15266</td>\n",
       "      <td>32.0</td>\n",
       "      <td>0</td>\n",
       "      <td>0</td>\n",
       "      <td>1</td>\n",
       "      <td>0</td>\n",
       "      <td>77.67</td>\n",
       "      <td>32.3</td>\n",
       "      <td>0</td>\n",
       "      <td>0</td>\n",
       "      <td>0</td>\n",
       "      <td>0</td>\n",
       "      <td>1</td>\n",
       "      <td>0</td>\n",
       "      <td>0</td>\n",
       "      <td>0</td>\n",
       "      <td>1</td>\n",
       "    </tr>\n",
       "  </tbody>\n",
       "</table>\n",
       "</div>"
      ],
      "text/plain": [
       "      id   age  hypertension  heart_disease  ever_married  Residence_type  avg_glucose_level   bmi  stroke  gender_Male  gender_Other  work_type_Never_worked  work_type_Private  work_type_Self-employed  work_type_children  smoking_status_never smoked  smoking_status_smokes\n",
       "1  30468  58.0             1              0             1               1              87.96  39.2       0            1             0                       0                  1                        0                   0                            1                      0\n",
       "3  56543  70.0             0              0             1               0              69.04  35.9       0            0             0                       0                  1                        0                   0                            0                      0\n",
       "6  52800  52.0             0              0             1               1              77.59  17.7       0            0             0                       0                  1                        0                   0                            0                      0\n",
       "7  41413  75.0             0              1             1               0             243.53  27.0       0            0             0                       0                  0                        1                   0                            1                      0\n",
       "8  15266  32.0             0              0             1               0              77.67  32.3       0            0             0                       0                  1                        0                   0                            0                      1"
      ]
     },
     "execution_count": 32,
     "metadata": {},
     "output_type": "execute_result"
    }
   ],
   "source": [
    "ht.head()"
   ]
  },
  {
   "cell_type": "markdown",
   "id": "35c16e92",
   "metadata": {},
   "source": [
    "# Checking & Eliminate Outliers"
   ]
  },
  {
   "cell_type": "code",
   "execution_count": 33,
   "id": "13c207ef",
   "metadata": {},
   "outputs": [],
   "source": [
    "def replace_with_thresholds(ht, col, low_threshold=0.1, up_threshold=0.9):\n",
    "    q1 = ht[col].quantile(low_threshold)\n",
    "    q3 = ht[col].quantile(up_threshold)\n",
    "    interquantile = q3 - q1\n",
    "    up_limit = q3 + 1.5 * interquantile\n",
    "    low_limit = q1 - 1.5 * interquantile\n",
    "    ht.loc[(ht[col] < low_limit), col] = low_limit\n",
    "    ht.loc[(ht[col] > up_limit), col] = up_limit"
   ]
  },
  {
   "cell_type": "code",
   "execution_count": 34,
   "id": "2b64b7ec",
   "metadata": {},
   "outputs": [],
   "source": [
    "for col in outlier_cols:\n",
    "    replace_with_thresholds(ht, col)"
   ]
  },
  {
   "cell_type": "code",
   "execution_count": 35,
   "id": "4341ee70",
   "metadata": {},
   "outputs": [
    {
     "name": "stdout",
     "output_type": "stream",
     "text": [
      "There is no outliers\n"
     ]
    },
    {
     "data": {
      "text/plain": [
       "[]"
      ]
     },
     "execution_count": 35,
     "metadata": {},
     "output_type": "execute_result"
    }
   ],
   "source": [
    "check_outliers(ht, num_cols)"
   ]
  },
  {
   "cell_type": "markdown",
   "id": "3922c454",
   "metadata": {},
   "source": [
    "# Feature Scaling"
   ]
  },
  {
   "cell_type": "code",
   "execution_count": 36,
   "id": "1b05d1b1",
   "metadata": {},
   "outputs": [],
   "source": [
    "\n",
    "sc = MinMaxScaler()"
   ]
  },
  {
   "cell_type": "code",
   "execution_count": 37,
   "id": "f7e95042",
   "metadata": {},
   "outputs": [],
   "source": [
    "ht[\"age\"] = sc.fit_transform(ht[[\"age\"]])\n",
    "ht[\"bmi\"] = sc.fit_transform(ht[[\"bmi\"]])\n",
    "ht[\"avg_glucose_level\"] = sc.fit_transform(ht[[\"avg_glucose_level\"]])"
   ]
  },
  {
   "cell_type": "code",
   "execution_count": 38,
   "id": "2cb57753",
   "metadata": {},
   "outputs": [
    {
     "data": {
      "text/html": [
       "<div>\n",
       "<style scoped>\n",
       "    .dataframe tbody tr th:only-of-type {\n",
       "        vertical-align: middle;\n",
       "    }\n",
       "\n",
       "    .dataframe tbody tr th {\n",
       "        vertical-align: top;\n",
       "    }\n",
       "\n",
       "    .dataframe thead th {\n",
       "        text-align: right;\n",
       "    }\n",
       "</style>\n",
       "<table border=\"1\" class=\"dataframe\">\n",
       "  <thead>\n",
       "    <tr style=\"text-align: right;\">\n",
       "      <th></th>\n",
       "      <th>id</th>\n",
       "      <th>age</th>\n",
       "      <th>hypertension</th>\n",
       "      <th>heart_disease</th>\n",
       "      <th>ever_married</th>\n",
       "      <th>Residence_type</th>\n",
       "      <th>avg_glucose_level</th>\n",
       "      <th>bmi</th>\n",
       "      <th>stroke</th>\n",
       "      <th>gender_Male</th>\n",
       "      <th>gender_Other</th>\n",
       "      <th>work_type_Never_worked</th>\n",
       "      <th>work_type_Private</th>\n",
       "      <th>work_type_Self-employed</th>\n",
       "      <th>work_type_children</th>\n",
       "      <th>smoking_status_never smoked</th>\n",
       "      <th>smoking_status_smokes</th>\n",
       "    </tr>\n",
       "  </thead>\n",
       "  <tbody>\n",
       "    <tr>\n",
       "      <th>1</th>\n",
       "      <td>30468</td>\n",
       "      <td>0.666667</td>\n",
       "      <td>1</td>\n",
       "      <td>0</td>\n",
       "      <td>1</td>\n",
       "      <td>1</td>\n",
       "      <td>0.139595</td>\n",
       "      <td>0.526697</td>\n",
       "      <td>0</td>\n",
       "      <td>1</td>\n",
       "      <td>0</td>\n",
       "      <td>0</td>\n",
       "      <td>1</td>\n",
       "      <td>0</td>\n",
       "      <td>0</td>\n",
       "      <td>1</td>\n",
       "      <td>0</td>\n",
       "    </tr>\n",
       "    <tr>\n",
       "      <th>3</th>\n",
       "      <td>56543</td>\n",
       "      <td>0.833333</td>\n",
       "      <td>0</td>\n",
       "      <td>0</td>\n",
       "      <td>1</td>\n",
       "      <td>0</td>\n",
       "      <td>0.059439</td>\n",
       "      <td>0.466968</td>\n",
       "      <td>0</td>\n",
       "      <td>0</td>\n",
       "      <td>0</td>\n",
       "      <td>0</td>\n",
       "      <td>1</td>\n",
       "      <td>0</td>\n",
       "      <td>0</td>\n",
       "      <td>0</td>\n",
       "      <td>0</td>\n",
       "    </tr>\n",
       "    <tr>\n",
       "      <th>6</th>\n",
       "      <td>52800</td>\n",
       "      <td>0.583333</td>\n",
       "      <td>0</td>\n",
       "      <td>0</td>\n",
       "      <td>1</td>\n",
       "      <td>1</td>\n",
       "      <td>0.095662</td>\n",
       "      <td>0.137557</td>\n",
       "      <td>0</td>\n",
       "      <td>0</td>\n",
       "      <td>0</td>\n",
       "      <td>0</td>\n",
       "      <td>1</td>\n",
       "      <td>0</td>\n",
       "      <td>0</td>\n",
       "      <td>0</td>\n",
       "      <td>0</td>\n",
       "    </tr>\n",
       "    <tr>\n",
       "      <th>7</th>\n",
       "      <td>41413</td>\n",
       "      <td>0.902778</td>\n",
       "      <td>0</td>\n",
       "      <td>1</td>\n",
       "      <td>1</td>\n",
       "      <td>0</td>\n",
       "      <td>0.798678</td>\n",
       "      <td>0.305882</td>\n",
       "      <td>0</td>\n",
       "      <td>0</td>\n",
       "      <td>0</td>\n",
       "      <td>0</td>\n",
       "      <td>0</td>\n",
       "      <td>1</td>\n",
       "      <td>0</td>\n",
       "      <td>1</td>\n",
       "      <td>0</td>\n",
       "    </tr>\n",
       "    <tr>\n",
       "      <th>8</th>\n",
       "      <td>15266</td>\n",
       "      <td>0.305556</td>\n",
       "      <td>0</td>\n",
       "      <td>0</td>\n",
       "      <td>1</td>\n",
       "      <td>0</td>\n",
       "      <td>0.096001</td>\n",
       "      <td>0.401810</td>\n",
       "      <td>0</td>\n",
       "      <td>0</td>\n",
       "      <td>0</td>\n",
       "      <td>0</td>\n",
       "      <td>1</td>\n",
       "      <td>0</td>\n",
       "      <td>0</td>\n",
       "      <td>0</td>\n",
       "      <td>1</td>\n",
       "    </tr>\n",
       "  </tbody>\n",
       "</table>\n",
       "</div>"
      ],
      "text/plain": [
       "      id       age  hypertension  heart_disease  ever_married  Residence_type  avg_glucose_level       bmi  stroke  gender_Male  gender_Other  work_type_Never_worked  work_type_Private  work_type_Self-employed  work_type_children  smoking_status_never smoked  smoking_status_smokes\n",
       "1  30468  0.666667             1              0             1               1           0.139595  0.526697       0            1             0                       0                  1                        0                   0                            1                      0\n",
       "3  56543  0.833333             0              0             1               0           0.059439  0.466968       0            0             0                       0                  1                        0                   0                            0                      0\n",
       "6  52800  0.583333             0              0             1               1           0.095662  0.137557       0            0             0                       0                  1                        0                   0                            0                      0\n",
       "7  41413  0.902778             0              1             1               0           0.798678  0.305882       0            0             0                       0                  0                        1                   0                            1                      0\n",
       "8  15266  0.305556             0              0             1               0           0.096001  0.401810       0            0             0                       0                  1                        0                   0                            0                      1"
      ]
     },
     "execution_count": 38,
     "metadata": {},
     "output_type": "execute_result"
    }
   ],
   "source": [
    "ht.head()"
   ]
  },
  {
   "cell_type": "markdown",
   "id": "e15342e3",
   "metadata": {},
   "source": [
    "# Model Building"
   ]
  },
  {
   "cell_type": "code",
   "execution_count": 39,
   "id": "cbc272eb",
   "metadata": {},
   "outputs": [],
   "source": [
    "y = ht[\"stroke\"]\n",
    "X = ht.drop([\"stroke\", \"id\"], axis=1)"
   ]
  },
  {
   "cell_type": "code",
   "execution_count": 40,
   "id": "a6c16f39",
   "metadata": {},
   "outputs": [],
   "source": [
    "models = [(\"LR\", LogisticRegression()),\n",
    "          (\"KNN\", KNeighborsClassifier()),\n",
    "          (\"DecisionTree\", DecisionTreeClassifier()),\n",
    "          (\"RF\", RandomForestClassifier()),\n",
    "          (\"SVC\", SVC()),\n",
    "          (\"GBM\", GradientBoostingClassifier()),\n",
    "          (\"XGBoost\", XGBClassifier())]"
   ]
  },
  {
   "cell_type": "code",
   "execution_count": 41,
   "id": "f8e5eb1d",
   "metadata": {},
   "outputs": [
    {
     "name": "stdout",
     "output_type": "stream",
     "text": [
      "LR \n",
      " Accuracy:0.9811502522597187 \n",
      " Recall:0.0 \n",
      " Precision:0.0 \n",
      " F-Score:0.0\n",
      "KNN \n",
      " Accuracy:0.9807374969719073 \n",
      " Recall:0.0 \n",
      " Precision:0.0 \n",
      " F-Score:0.0\n",
      "DecisionTree \n",
      " Accuracy:0.9609934865319014 \n",
      " Recall:0.08398665554628858 \n",
      " Precision:0.0683935698016262 \n",
      " F-Score:0.07529103729604049\n",
      "RF \n",
      " Accuracy:0.9809094778488548 \n",
      " Recall:0.001834862385321101 \n",
      " Precision:0.06666666666666667 \n",
      " F-Score:0.0035714285714285718\n",
      "SVC \n",
      " Accuracy:0.9811502522597187 \n",
      " Recall:0.0 \n",
      " Precision:0.0 \n",
      " F-Score:0.0\n",
      "GBM \n",
      " Accuracy:0.9801183078411555 \n",
      " Recall:0.0 \n",
      " Precision:0.0 \n",
      " F-Score:0.0\n",
      "XGBoost \n",
      " Accuracy:0.980806284590136 \n",
      " Recall:0.005471226021684737 \n",
      " Precision:0.25 \n",
      " F-Score:0.010682680151706703\n"
     ]
    }
   ],
   "source": [
    "for name, regressor in models:\n",
    "    cv = cross_validate(regressor, X, y, cv=5, scoring=[\"accuracy\", \"f1\", \"recall\", \"precision\"])\n",
    "    print(f'{name} \\n {\"Accuracy\"}:{cv[\"test_accuracy\"].mean()} \\n {\"Recall\"}:{cv[\"test_recall\"].mean()} \\n {\"Precision\"}:{cv[\"test_precision\"].mean()} \\n {\"F-Score\"}:{cv[\"test_f1\"].mean()}')"
   ]
  },
  {
   "cell_type": "markdown",
   "id": "fd9b092a",
   "metadata": {},
   "source": [
    "# SMOTE"
   ]
  },
  {
   "cell_type": "code",
   "execution_count": 42,
   "id": "30a2ae19",
   "metadata": {},
   "outputs": [],
   "source": [
    "from imblearn.over_sampling import SMOTE"
   ]
  },
  {
   "cell_type": "code",
   "execution_count": 43,
   "id": "210e2009",
   "metadata": {},
   "outputs": [],
   "source": [
    "sm = SMOTE()"
   ]
  },
  {
   "cell_type": "code",
   "execution_count": 44,
   "id": "2ba0fedb",
   "metadata": {},
   "outputs": [],
   "source": [
    "X_train, X_test, y_train, y_test = train_test_split(X, y, test_size=0.2)"
   ]
  },
  {
   "cell_type": "code",
   "execution_count": 45,
   "id": "0014b3a9",
   "metadata": {},
   "outputs": [
    {
     "data": {
      "text/plain": [
       "440"
      ]
     },
     "execution_count": 45,
     "metadata": {},
     "output_type": "execute_result"
    }
   ],
   "source": [
    "sum(y_train == 1) "
   ]
  },
  {
   "cell_type": "markdown",
   "id": "614e1bf2",
   "metadata": {},
   "source": [
    "There are 440 data equal to 1"
   ]
  },
  {
   "cell_type": "code",
   "execution_count": 46,
   "id": "8dcddf3b",
   "metadata": {},
   "outputs": [
    {
     "data": {
      "text/plain": [
       "22817"
      ]
     },
     "execution_count": 46,
     "metadata": {},
     "output_type": "execute_result"
    }
   ],
   "source": [
    "sum(y_train == 0)"
   ]
  },
  {
   "cell_type": "markdown",
   "id": "f1632228",
   "metadata": {},
   "source": [
    "There are 22817 data equal to 0"
   ]
  },
  {
   "cell_type": "code",
   "execution_count": 47,
   "id": "40e65100",
   "metadata": {},
   "outputs": [],
   "source": [
    "X_train_smote, y_train_smote = sm.fit_resample(X_train, y_train)"
   ]
  },
  {
   "cell_type": "code",
   "execution_count": 48,
   "id": "b10eca17",
   "metadata": {},
   "outputs": [
    {
     "data": {
      "text/plain": [
       "22817"
      ]
     },
     "execution_count": 48,
     "metadata": {},
     "output_type": "execute_result"
    }
   ],
   "source": [
    "sum(y_train_smote == 1)"
   ]
  },
  {
   "cell_type": "markdown",
   "id": "633be675",
   "metadata": {},
   "source": [
    "There are 22817 data equal to 1"
   ]
  },
  {
   "cell_type": "code",
   "execution_count": 49,
   "id": "a92d0383",
   "metadata": {},
   "outputs": [
    {
     "data": {
      "text/plain": [
       "22817"
      ]
     },
     "execution_count": 49,
     "metadata": {},
     "output_type": "execute_result"
    }
   ],
   "source": [
    "sum(y_train_smote == 0)"
   ]
  },
  {
   "cell_type": "markdown",
   "id": "237e0cd0",
   "metadata": {},
   "source": [
    "There are 22817 data equal to 0"
   ]
  },
  {
   "cell_type": "code",
   "execution_count": 50,
   "id": "7daecd52",
   "metadata": {},
   "outputs": [
    {
     "name": "stdout",
     "output_type": "stream",
     "text": [
      "LR\n",
      "Confusion Matrix: \n",
      "[[4139 1568]\n",
      " [  24   84]]\n",
      "              precision    recall  f1-score   support\n",
      "\n",
      "           0       0.99      0.73      0.84      5707\n",
      "           1       0.05      0.78      0.10       108\n",
      "\n",
      "    accuracy                           0.73      5815\n",
      "   macro avg       0.52      0.75      0.47      5815\n",
      "weighted avg       0.98      0.73      0.82      5815\n",
      "\n",
      "\n",
      "KNN\n",
      "Confusion Matrix: \n",
      "[[4836  871]\n",
      " [  75   33]]\n",
      "              precision    recall  f1-score   support\n",
      "\n",
      "           0       0.98      0.85      0.91      5707\n",
      "           1       0.04      0.31      0.07       108\n",
      "\n",
      "    accuracy                           0.84      5815\n",
      "   macro avg       0.51      0.58      0.49      5815\n",
      "weighted avg       0.97      0.84      0.90      5815\n",
      "\n",
      "\n",
      "DecisionTree\n",
      "Confusion Matrix: \n",
      "[[5382  325]\n",
      " [  94   14]]\n",
      "              precision    recall  f1-score   support\n",
      "\n",
      "           0       0.98      0.94      0.96      5707\n",
      "           1       0.04      0.13      0.06       108\n",
      "\n",
      "    accuracy                           0.93      5815\n",
      "   macro avg       0.51      0.54      0.51      5815\n",
      "weighted avg       0.97      0.93      0.95      5815\n",
      "\n",
      "\n",
      "RF\n",
      "Confusion Matrix: \n",
      "[[5299  408]\n",
      " [  91   17]]\n",
      "              precision    recall  f1-score   support\n",
      "\n",
      "           0       0.98      0.93      0.96      5707\n",
      "           1       0.04      0.16      0.06       108\n",
      "\n",
      "    accuracy                           0.91      5815\n",
      "   macro avg       0.51      0.54      0.51      5815\n",
      "weighted avg       0.97      0.91      0.94      5815\n",
      "\n",
      "\n",
      "SVC\n",
      "Confusion Matrix: \n",
      "[[4277 1430]\n",
      " [  34   74]]\n",
      "              precision    recall  f1-score   support\n",
      "\n",
      "           0       0.99      0.75      0.85      5707\n",
      "           1       0.05      0.69      0.09       108\n",
      "\n",
      "    accuracy                           0.75      5815\n",
      "   macro avg       0.52      0.72      0.47      5815\n",
      "weighted avg       0.97      0.75      0.84      5815\n",
      "\n",
      "\n",
      "GBM\n",
      "Confusion Matrix: \n",
      "[[4419 1288]\n",
      " [  38   70]]\n",
      "              precision    recall  f1-score   support\n",
      "\n",
      "           0       0.99      0.77      0.87      5707\n",
      "           1       0.05      0.65      0.10       108\n",
      "\n",
      "    accuracy                           0.77      5815\n",
      "   macro avg       0.52      0.71      0.48      5815\n",
      "weighted avg       0.97      0.77      0.86      5815\n",
      "\n",
      "\n",
      "XGBoost\n",
      "Confusion Matrix: \n",
      "[[5641   66]\n",
      " [ 101    7]]\n",
      "              precision    recall  f1-score   support\n",
      "\n",
      "           0       0.98      0.99      0.99      5707\n",
      "           1       0.10      0.06      0.08       108\n",
      "\n",
      "    accuracy                           0.97      5815\n",
      "   macro avg       0.54      0.53      0.53      5815\n",
      "weighted avg       0.97      0.97      0.97      5815\n",
      "\n",
      "\n"
     ]
    }
   ],
   "source": [
    "for name, regressor in models:\n",
    "    regressor.fit(X_train_smote, y_train_smote)\n",
    "    pre = regressor.predict(X_test)\n",
    "    print(f'{name}\\nConfusion Matrix: \\n{confusion_matrix(y_test, pre)}\\n{classification_report(y_test, pre)}\\n')"
   ]
  },
  {
   "cell_type": "markdown",
   "id": "2f305010",
   "metadata": {},
   "source": [
    "Logistic Regression can be use with recall score of 78%"
   ]
  },
  {
   "cell_type": "code",
   "execution_count": 51,
   "id": "90046e64",
   "metadata": {},
   "outputs": [],
   "source": [
    "from sklearn.model_selection import GridSearchCV"
   ]
  },
  {
   "cell_type": "code",
   "execution_count": 52,
   "id": "c8ad5e47",
   "metadata": {},
   "outputs": [],
   "source": [
    "logModel=LogisticRegression()"
   ]
  },
  {
   "cell_type": "code",
   "execution_count": 53,
   "id": "b2db5672",
   "metadata": {},
   "outputs": [],
   "source": [
    "param_grid = [{'penalty' :['l1','l2','elasticnet','none'],\n",
    "               'C':np.logspace(-4,4,20),\n",
    "               'solver':['lbfgs','newton-cg','liblinear','sag','saga'],\n",
    "              'max_iter':[100,1000,2500,5000]\n",
    "              }\n",
    "]"
   ]
  },
  {
   "cell_type": "code",
   "execution_count": 54,
   "id": "e13be3e2",
   "metadata": {},
   "outputs": [],
   "source": [
    "clf = GridSearchCV(logModel,param_grid,cv=3,verbose=True,n_jobs=-1)"
   ]
  },
  {
   "cell_type": "code",
   "execution_count": 55,
   "id": "8d2396b4",
   "metadata": {},
   "outputs": [
    {
     "name": "stdout",
     "output_type": "stream",
     "text": [
      "Fitting 3 folds for each of 1600 candidates, totalling 4800 fits\n"
     ]
    }
   ],
   "source": [
    "best_clf =clf.fit(X,y)"
   ]
  },
  {
   "cell_type": "code",
   "execution_count": 56,
   "id": "bf150aa5",
   "metadata": {},
   "outputs": [
    {
     "data": {
      "text/html": [
       "<style>#sk-container-id-1 {color: black;background-color: white;}#sk-container-id-1 pre{padding: 0;}#sk-container-id-1 div.sk-toggleable {background-color: white;}#sk-container-id-1 label.sk-toggleable__label {cursor: pointer;display: block;width: 100%;margin-bottom: 0;padding: 0.3em;box-sizing: border-box;text-align: center;}#sk-container-id-1 label.sk-toggleable__label-arrow:before {content: \"▸\";float: left;margin-right: 0.25em;color: #696969;}#sk-container-id-1 label.sk-toggleable__label-arrow:hover:before {color: black;}#sk-container-id-1 div.sk-estimator:hover label.sk-toggleable__label-arrow:before {color: black;}#sk-container-id-1 div.sk-toggleable__content {max-height: 0;max-width: 0;overflow: hidden;text-align: left;background-color: #f0f8ff;}#sk-container-id-1 div.sk-toggleable__content pre {margin: 0.2em;color: black;border-radius: 0.25em;background-color: #f0f8ff;}#sk-container-id-1 input.sk-toggleable__control:checked~div.sk-toggleable__content {max-height: 200px;max-width: 100%;overflow: auto;}#sk-container-id-1 input.sk-toggleable__control:checked~label.sk-toggleable__label-arrow:before {content: \"▾\";}#sk-container-id-1 div.sk-estimator input.sk-toggleable__control:checked~label.sk-toggleable__label {background-color: #d4ebff;}#sk-container-id-1 div.sk-label input.sk-toggleable__control:checked~label.sk-toggleable__label {background-color: #d4ebff;}#sk-container-id-1 input.sk-hidden--visually {border: 0;clip: rect(1px 1px 1px 1px);clip: rect(1px, 1px, 1px, 1px);height: 1px;margin: -1px;overflow: hidden;padding: 0;position: absolute;width: 1px;}#sk-container-id-1 div.sk-estimator {font-family: monospace;background-color: #f0f8ff;border: 1px dotted black;border-radius: 0.25em;box-sizing: border-box;margin-bottom: 0.5em;}#sk-container-id-1 div.sk-estimator:hover {background-color: #d4ebff;}#sk-container-id-1 div.sk-parallel-item::after {content: \"\";width: 100%;border-bottom: 1px solid gray;flex-grow: 1;}#sk-container-id-1 div.sk-label:hover label.sk-toggleable__label {background-color: #d4ebff;}#sk-container-id-1 div.sk-serial::before {content: \"\";position: absolute;border-left: 1px solid gray;box-sizing: border-box;top: 0;bottom: 0;left: 50%;z-index: 0;}#sk-container-id-1 div.sk-serial {display: flex;flex-direction: column;align-items: center;background-color: white;padding-right: 0.2em;padding-left: 0.2em;position: relative;}#sk-container-id-1 div.sk-item {position: relative;z-index: 1;}#sk-container-id-1 div.sk-parallel {display: flex;align-items: stretch;justify-content: center;background-color: white;position: relative;}#sk-container-id-1 div.sk-item::before, #sk-container-id-1 div.sk-parallel-item::before {content: \"\";position: absolute;border-left: 1px solid gray;box-sizing: border-box;top: 0;bottom: 0;left: 50%;z-index: -1;}#sk-container-id-1 div.sk-parallel-item {display: flex;flex-direction: column;z-index: 1;position: relative;background-color: white;}#sk-container-id-1 div.sk-parallel-item:first-child::after {align-self: flex-end;width: 50%;}#sk-container-id-1 div.sk-parallel-item:last-child::after {align-self: flex-start;width: 50%;}#sk-container-id-1 div.sk-parallel-item:only-child::after {width: 0;}#sk-container-id-1 div.sk-dashed-wrapped {border: 1px dashed gray;margin: 0 0.4em 0.5em 0.4em;box-sizing: border-box;padding-bottom: 0.4em;background-color: white;}#sk-container-id-1 div.sk-label label {font-family: monospace;font-weight: bold;display: inline-block;line-height: 1.2em;}#sk-container-id-1 div.sk-label-container {text-align: center;}#sk-container-id-1 div.sk-container {/* jupyter's `normalize.less` sets `[hidden] { display: none; }` but bootstrap.min.css set `[hidden] { display: none !important; }` so we also need the `!important` here to be able to override the default hidden behavior on the sphinx rendered scikit-learn.org. See: https://github.com/scikit-learn/scikit-learn/issues/21755 */display: inline-block !important;position: relative;}#sk-container-id-1 div.sk-text-repr-fallback {display: none;}</style><div id=\"sk-container-id-1\" class=\"sk-top-container\"><div class=\"sk-text-repr-fallback\"><pre>LogisticRegression(C=0.0001, penalty=&#x27;l1&#x27;, solver=&#x27;liblinear&#x27;)</pre><b>In a Jupyter environment, please rerun this cell to show the HTML representation or trust the notebook. <br />On GitHub, the HTML representation is unable to render, please try loading this page with nbviewer.org.</b></div><div class=\"sk-container\" hidden><div class=\"sk-item\"><div class=\"sk-estimator sk-toggleable\"><input class=\"sk-toggleable__control sk-hidden--visually\" id=\"sk-estimator-id-1\" type=\"checkbox\" checked><label for=\"sk-estimator-id-1\" class=\"sk-toggleable__label sk-toggleable__label-arrow\">LogisticRegression</label><div class=\"sk-toggleable__content\"><pre>LogisticRegression(C=0.0001, penalty=&#x27;l1&#x27;, solver=&#x27;liblinear&#x27;)</pre></div></div></div></div></div>"
      ],
      "text/plain": [
       "LogisticRegression(C=0.0001, penalty='l1', solver='liblinear')"
      ]
     },
     "execution_count": 56,
     "metadata": {},
     "output_type": "execute_result"
    }
   ],
   "source": [
    "best_clf.best_estimator_"
   ]
  },
  {
   "cell_type": "code",
   "execution_count": 57,
   "id": "646614cc",
   "metadata": {},
   "outputs": [
    {
     "name": "stdout",
     "output_type": "stream",
     "text": [
      "Accuracy - : 0.981\n"
     ]
    }
   ],
   "source": [
    "print(f'Accuracy - : {best_clf.score(X,y):.3f}')"
   ]
  },
  {
   "cell_type": "code",
   "execution_count": null,
   "id": "08e88d9e",
   "metadata": {},
   "outputs": [],
   "source": []
  },
  {
   "cell_type": "code",
   "execution_count": null,
   "id": "c10b5f2e",
   "metadata": {},
   "outputs": [],
   "source": []
  }
 ],
 "metadata": {
  "kernelspec": {
   "display_name": "Python 3 (ipykernel)",
   "language": "python",
   "name": "python3"
  },
  "language_info": {
   "codemirror_mode": {
    "name": "ipython",
    "version": 3
   },
   "file_extension": ".py",
   "mimetype": "text/x-python",
   "name": "python",
   "nbconvert_exporter": "python",
   "pygments_lexer": "ipython3",
   "version": "3.11.3"
  }
 },
 "nbformat": 4,
 "nbformat_minor": 5
}
